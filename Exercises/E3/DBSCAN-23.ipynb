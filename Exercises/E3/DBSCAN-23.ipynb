{
 "cells": [
  {
   "cell_type": "code",
   "execution_count": 1,
   "metadata": {},
   "outputs": [],
   "source": [
    "%matplotlib inline\n",
    "\n",
    "import numpy as np\n",
    "import matplotlib.pyplot as plt\n",
    "from matplotlib.colors import ListedColormap\n",
    "from matplotlib.ticker import NullFormatter\n",
    "plt.rcParams['font.size'] = 15\n",
    "\n",
    "# manifold.TSNE\n",
    "from sklearn import manifold  #, datasets\n",
    "from time import time"
   ]
  },
  {
   "cell_type": "markdown",
   "metadata": {
    "tags": []
   },
   "source": [
    "## Data and labels \n",
    "In this example we know the labels, hence we can test the performances of t-SNE and DBSCAN"
   ]
  },
  {
   "cell_type": "code",
   "execution_count": 2,
   "metadata": {},
   "outputs": [
    {
     "name": "stdout",
     "output_type": "stream",
     "text": [
      "N= 600   D= 3\n"
     ]
    }
   ],
   "source": [
    "fname,fnamey=\"x_3d.dat\",\"y_3d.dat\"\n",
    "data=np.loadtxt(\"DATA/\"+fname, delimiter='\\t')\n",
    "y=np.loadtxt(\"DATA/\"+fnamey,dtype=int)\n",
    "N=len(data)\n",
    "D=len(data[0])\n",
    "print(\"N=\",N,\"  D=\",D)\n",
    "x=data"
   ]
  },
  {
   "cell_type": "markdown",
   "metadata": {},
   "source": [
    "## Find the typical minimum distance between points\n",
    "This yields a typical scale, to be used as a reference for \"eps\""
   ]
  },
  {
   "cell_type": "code",
   "execution_count": 3,
   "metadata": {},
   "outputs": [
    {
     "name": "stdout",
     "output_type": "stream",
     "text": [
      "569.5269005085432\n",
      "mean minimum distance between points:  23.321029500210262\n"
     ]
    }
   ],
   "source": [
    "def dist(x,i,j):\n",
    "    return np.linalg.norm(x[i]-x[j])\n",
    "\n",
    "print(dist(x,13,1))\n",
    "mdist = np.zeros(N)\n",
    "for i in range(N):\n",
    "    dm = 1e100\n",
    "    for j in range(N):\n",
    "        if i!=j:\n",
    "            dij = dist(x,i,j);\n",
    "            if dij<dm:\n",
    "                dm = dij\n",
    "    mdist[i] = dm\n",
    "mean_min_dist = mdist.mean()\n",
    "print(\"mean minimum distance between points: \",mean_min_dist)"
   ]
  },
  {
   "cell_type": "markdown",
   "metadata": {},
   "source": [
    "## t-SNE visualization, for true labels"
   ]
  },
  {
   "cell_type": "code",
   "execution_count": 6,
   "metadata": {},
   "outputs": [
    {
     "ename": "IndexError",
     "evalue": "index 5 is out of bounds for axis 0 with size 5",
     "output_type": "error",
     "traceback": [
      "\u001b[1;31m---------------------------------------------------------------------------\u001b[0m",
      "\u001b[1;31mIndexError\u001b[0m                                Traceback (most recent call last)",
      "\u001b[1;32m<ipython-input-6-c163475127d6>\u001b[0m in \u001b[0;36m<module>\u001b[1;34m\u001b[0m\n\u001b[0;32m     11\u001b[0m \u001b[1;32mfor\u001b[0m \u001b[0mi\u001b[0m\u001b[1;33m,\u001b[0m \u001b[0mperplexity\u001b[0m \u001b[1;32min\u001b[0m \u001b[0menumerate\u001b[0m\u001b[1;33m(\u001b[0m\u001b[0mperplexities\u001b[0m\u001b[1;33m)\u001b[0m\u001b[1;33m:\u001b[0m\u001b[1;33m\u001b[0m\u001b[1;33m\u001b[0m\u001b[0m\n\u001b[0;32m     12\u001b[0m     \u001b[1;32mfor\u001b[0m \u001b[0mj\u001b[0m \u001b[1;32min\u001b[0m \u001b[0mrange\u001b[0m\u001b[1;33m(\u001b[0m\u001b[1;36m6\u001b[0m\u001b[1;33m)\u001b[0m\u001b[1;33m:\u001b[0m\u001b[1;33m\u001b[0m\u001b[1;33m\u001b[0m\u001b[0m\n\u001b[1;32m---> 13\u001b[1;33m         \u001b[0max\u001b[0m \u001b[1;33m=\u001b[0m \u001b[0msubplots\u001b[0m\u001b[1;33m[\u001b[0m\u001b[0mj\u001b[0m\u001b[1;33m,\u001b[0m\u001b[0mi\u001b[0m\u001b[1;33m]\u001b[0m\u001b[1;33m\u001b[0m\u001b[1;33m\u001b[0m\u001b[0m\n\u001b[0m\u001b[0;32m     14\u001b[0m \u001b[1;33m\u001b[0m\u001b[0m\n\u001b[0;32m     15\u001b[0m         \u001b[0mt0\u001b[0m \u001b[1;33m=\u001b[0m \u001b[0mtime\u001b[0m\u001b[1;33m(\u001b[0m\u001b[1;33m)\u001b[0m\u001b[1;33m\u001b[0m\u001b[1;33m\u001b[0m\u001b[0m\n",
      "\u001b[1;31mIndexError\u001b[0m: index 5 is out of bounds for axis 0 with size 5"
     ]
    },
    {
     "data": {
      "image/png": "[encoded data removed]",
      "text/plain": [
       "<Figure size 1080x194.4 with 25 Axes>"
      ]
     },
     "metadata": {
      "needs_background": "light"
     },
     "output_type": "display_data"
    }
   ],
   "source": [
    "np.random.seed(0)\n",
    "n_samples = N\n",
    "n_components = 2 \n",
    "perplexities = [5, 10, 20, 40, 80]\n",
    "Np = len(perplexities)\n",
    "mycmap = ListedColormap([\"blue\",\"red\",\"gold\" ])\n",
    "\n",
    "(fig, subplots) = plt.subplots(5, Np , figsize=(3*Np, 2.7))\n",
    "\n",
    "X_all = [None]\n",
    "for i, perplexity in enumerate(perplexities):\n",
    "    for j in range(6):\n",
    "        ax = subplots[j,i]\n",
    "\n",
    "        t0 = time()\n",
    "        tsne = manifold.TSNE(n_components=n_components, init='random',\n",
    "                             random_state=5, perplexity=perplexity)\n",
    "        Y = tsne.fit_transform(data)\n",
    "        t1 = time()\n",
    "    ax.set_title(\"Perplexity=%d\" % perplexity)\n",
    "    ax.scatter(Y[:, 0], Y[:, 1], c=y,cmap=mycmap)\n",
    "    ax.tick_params(left=False,bottom=False)\n",
    "    ax.xaxis.set_major_formatter(NullFormatter())\n",
    "    ax.yaxis.set_major_formatter(NullFormatter())\n",
    "    ax.axis('tight')\n",
    "    X_all.append(Y)\n",
    "    \n",
    "plt.show()"
   ]
  },
  {
   "cell_type": "markdown",
   "metadata": {},
   "source": [
    "## DBSCAN: find labels by applying clustering"
   ]
  },
  {
   "cell_type": "code",
   "execution_count": null,
   "metadata": {},
   "outputs": [],
   "source": [
    "from sklearn.cluster import DBSCAN\n",
    "#from sklearn.datasets import make_blobs\n",
    "from sklearn.preprocessing import StandardScaler\n",
    "cpalette = [\"blue\",\"red\",\"gold\",\"black\",\"magenta\",\"green\",\"cyan\",\"#1CE6FF\", \"#FF34FF\", \"#FF4A46\",\"#008941\", \"#006FA6\", \"#A30059\", \"#0000A6\", \"#63FFAC\",\"#B79762\", \"#004D43\", \"#8FB0FF\", \"#997D87\",\"#5A0007\", \"#809693\",\"#1B4400\", \"#4FC601\", \"#3B5DFF\", \"#4A3B53\",\"#886F4C\",\"#34362D\", \"#B4A8BD\", \"#00A6AA\", \"#452C2C\",\"#636375\", \"#A3C8C9\", \"#FF913F\", \"#938A81\",\"#575329\", \"#00FECF\", \"#B05B6F\"]\n",
    "from collections import OrderedDict\n",
    "ms = 6\n",
    "\n",
    "def clustering(y):\n",
    "    # Finds position of labels and returns a dictionary of cluster labels to data indices.\n",
    "    yu = np.sort(np.unique(y))\n",
    "    clustering = OrderedDict()\n",
    "    for ye in yu:\n",
    "        clustering[ye] = np.where(y == ye)[0]\n",
    "    return clustering\n",
    "\n",
    "def entropy(c, n_sample):\n",
    "    # Measures the entropy of a cluster\n",
    "    h = 0.\n",
    "    for kc in c.keys():\n",
    "        p=len(c[kc])/n_sample\n",
    "        h+=p*np.log(p)\n",
    "    h*=-1.\n",
    "    return h\n",
    "\n",
    "# Normalized mutual information function\n",
    "# Note that this deals with the label permutation problem\n",
    "def NMI(y_true, y_pred):\n",
    "    \"\"\" Computes normalized mutual information: where y_true and y_pred are both clustering assignments\n",
    "    \"\"\"\n",
    "    w = clustering(y_true)\n",
    "    c = clustering(y_pred)\n",
    "    n_sample = len(y_true)\n",
    "\n",
    "    Iwc = 0.\n",
    "    for kw in w.keys():\n",
    "        for kc in c.keys():\n",
    "            w_intersect_c=len(set(w[kw]).intersection(set(c[kc])))\n",
    "            if w_intersect_c > 0:\n",
    "                Iwc += w_intersect_c*np.log(n_sample*w_intersect_c/(len(w[kw])*len(c[kc])))\n",
    "    Iwc/=n_sample\n",
    "    Hc = entropy(c,n_sample)\n",
    "    Hw = entropy(w,n_sample)\n",
    "\n",
    "    return 2*Iwc/(Hc+Hw)\n",
    "\n",
    "def plotting_ax(X, y, ax):\n",
    "    # plotting function\n",
    "    for i, yu in enumerate(np.unique(y)):\n",
    "        pos = (y == yu)\n",
    "        ax.scatter(X[pos,0], X[pos,1],c=cpalette[i%len(cpalette)],s=ms)\n",
    "\n",
    "# DBSCAN has a few parameters, let's sweep over a few parameters and see what happens\n",
    "np.random.seed(12345)\n",
    "n_true_center=3\n",
    "#X, ytrue = make_blobs(10000, 2, n_true_center) # Generating random gaussian mixture\n",
    "X2D = X_all[3] # best visualization above\n",
    "X = data\n",
    "y_true = y\n",
    "\n",
    "nmi_array=np.zeros((25,30))\n",
    "#eps_range = [0.01,0.1,0.5,1.0,10.]\n",
    "if mean_min_dist<10:\n",
    "    r=mean_min_dist\n",
    "else:\n",
    "    r = int(mean_min_dist)\n",
    "eps_range = np.linspace(r,12*r,25)\n",
    "min_sample_range = np.linspace(1,30,30)\n",
    "fig, ax = plt.subplots(len(eps_range),len(min_sample_range),figsize=(15,18))\n",
    "for i, eps in enumerate(eps_range):\n",
    "    for j, min_samples in enumerate(min_sample_range):\n",
    "        model = DBSCAN(eps=eps, min_samples=min_samples)\n",
    "        model.fit(X)\n",
    "        y_hat = model.labels_\n",
    "        plotting_ax(X2D,y_hat,ax[i,j])\n",
    "        nmi=NMI(y_hat, y_true)\n",
    "        ax[i,j].set_title('eps=%.2f, minPts=%i\\nnmi=%.2f'%(eps,min_samples,nmi))\n",
    "        nmi_array.append(nmi[:,j])\n",
    "#plt.tight_layout(h_pad=0.5)\n",
    "#plt.show()\n"
   ]
  },
  {
   "cell_type": "code",
   "execution_count": null,
   "metadata": {},
   "outputs": [],
   "source": [
    "import seaborn as sns\n",
    "\n",
    "data = np.random.random((12,20))\n",
    "\n",
    "ax = sns.heatmap(data, linewidth=0.5)\n",
    "plt.show()\n",
    "#plt.colorbar(col, label='NMI')"
   ]
  },
  {
   "cell_type": "code",
   "execution_count": null,
   "metadata": {},
   "outputs": [],
   "source": [
    "print(np.shape(nmi_array))"
   ]
  },
  {
   "cell_type": "code",
   "execution_count": null,
   "metadata": {},
   "outputs": [],
   "source": [
    "ax = sns.heatmap(nmi_array, linewidth=0.5)\n",
    "plt.show()"
   ]
  },
  {
   "cell_type": "code",
   "execution_count": null,
   "metadata": {},
   "outputs": [],
   "source": []
  }
 ],
 "metadata": {
  "kernelspec": {
   "display_name": "Python 3",
   "language": "python",
   "name": "python3"
  },
  "language_info": {
   "codemirror_mode": {
    "name": "ipython",
    "version": 3
   },
   "file_extension": ".py",
   "mimetype": "text/x-python",
   "name": "python",
   "nbconvert_exporter": "python",
   "pygments_lexer": "ipython3",
   "version": "3.6.13"
  }
 },
 "nbformat": 4,
 "nbformat_minor": 4
}
