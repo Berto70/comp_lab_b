{
 "cells": [
  {
   "cell_type": "markdown",
   "metadata": {},
   "source": [
    "# LCPB 22-23 Exercise 2 (Clustering and DBSCAN) "
   ]
  },
  {
   "cell_type": "markdown",
   "metadata": {},
   "source": [
    "<center><h1>Group 2307</h1></center>\n",
    "\n",
    "\n",
    "<center><style>\n",
    "table {\n",
    "    font-size: 24px;\n",
    "}\n",
    "</style></center>\n",
    "\n",
    "| Last Name          | First Name            |Matricola number|\n",
    "|--------------------|-----------------------|----------------|\n",
    "| Bertinelli         | Gabriele              |1219907 (tri)   |\n",
    "| Cacciola           | Martina               |2097476         |\n",
    "| Pervysheva         | Yelyzaveta            |2039398         |           \n",
    "| Waththe Liyanage   | Wageesha Widuranga    |2078719         |"
   ]
  },
  {
   "cell_type": "code",
   "execution_count": null,
   "metadata": {},
   "outputs": [],
   "source": [
    "%matplotlib inline\n",
    "\n",
    "import numpy as np\n",
    "import matplotlib.pyplot as plt\n",
    "from matplotlib.colors import ListedColormap\n",
    "from matplotlib.ticker import NullFormatter\n",
    "plt.rcParams['font.size'] = 15\n",
    "\n",
    "# manifold.TSNE\n",
    "from sklearn import manifold  #, datasets\n",
    "from time import time"
   ]
  },
  {
   "cell_type": "markdown",
   "metadata": {
    "tags": []
   },
   "source": [
    "## Data and labels \n",
    "In this example we know the labels, hence we can test the performances of t-SNE and DBSCAN"
   ]
  },
  {
   "cell_type": "code",
   "execution_count": null,
   "metadata": {},
   "outputs": [],
   "source": [
    "fname,fnamey=\"x_3d.dat\",\"y_3d.dat\"\n",
    "data=np.loadtxt(\"DATA/\"+fname, delimiter='\\t')\n",
    "y=np.loadtxt(\"DATA/\"+fnamey,dtype=int)\n",
    "N=len(data)\n",
    "D=len(data[0])\n",
    "print(\"N=\",N,\"  D=\",D)\n",
    "x=data"
   ]
  },
  {
   "cell_type": "markdown",
   "metadata": {},
   "source": [
    "## Find the typical minimum distance between points\n",
    "This yields a typical scale, to be used as a reference for \"eps\""
   ]
  },
  {
   "cell_type": "code",
   "execution_count": null,
   "metadata": {},
   "outputs": [],
   "source": [
    "def dist(x,i,j):\n",
    "    return np.linalg.norm(x[i]-x[j])\n",
    "\n",
    "print(dist(x,13,1))\n",
    "mdist = np.zeros(N)\n",
    "for i in range(N):\n",
    "    dm = 1e100\n",
    "    for j in range(N):\n",
    "        if i!=j:\n",
    "            dij = dist(x,i,j);\n",
    "            if dij<dm:\n",
    "                dm = dij\n",
    "    mdist[i] = dm\n",
    "mean_min_dist = mdist.mean()\n",
    "print(\"mean minimum distance between points: \",mean_min_dist)"
   ]
  },
  {
   "cell_type": "markdown",
   "metadata": {},
   "source": [
    "## t-SNE visualization, for true labels"
   ]
  },
  {
   "cell_type": "code",
   "execution_count": null,
   "metadata": {
    "scrolled": true
   },
   "outputs": [],
   "source": [
    "np.random.seed(0)\n",
    "n_samples = N\n",
    "n_components = 2 \n",
    "perplexities = [5, 10, 20, 40, 80]\n",
    "Np = len(perplexities)\n",
    "mycmap = ListedColormap([\"blue\",\"red\",\"gold\" ])\n",
    "\n",
    "(fig, subplots) = plt.subplots(1,Np , figsize=(3*Np, 2.7))\n",
    "\n",
    "X_all = [None]\n",
    "for i, perplexity in enumerate(perplexities):\n",
    "    ax = subplots[i]\n",
    "\n",
    "    t0 = time()\n",
    "for i in range (4):\n",
    "    tsne = manifold.TSNE(n_components=n_components, init='random',\n",
    "                         random_state=1, perplexity=perplexity)\n",
    "    Y = tsne.fit_transform(data)\n",
    "    t1 = time()\n",
    "    ax.set_title(\"Perplexity=%d\" % perplexity)\n",
    "    ax.scatter(Y[:, 0], Y[:, 1], c=y,cmap=mycmap)\n",
    "    ax.tick_params(left=False,bottom=False)\n",
    "    ax.xaxis.set_major_formatter(NullFormatter())\n",
    "    ax.yaxis.set_major_formatter(NullFormatter())\n",
    "    ax.axis('tight')\n",
    "    X_all.append(Y)\n",
    "    \n",
    "plt.show()"
   ]
  },
  {
   "cell_type": "markdown",
   "metadata": {},
   "source": [
    "# Task 1)"
   ]
  },
  {
   "cell_type": "markdown",
   "metadata": {},
   "source": [
    "random_state=0\n",
    "![rnd_state=0](./0.jpg)\n",
    "random_state=1\n",
    "![rnd_state=1](./1.jpg)\n",
    "random_state=2\n",
    "![rnd_state=2](./2.jpg)\n",
    "random_state=3\n",
    "![rnd_state=3](./3.jpg)\n",
    "random_state=4\n",
    "![rnd_state=4](./4.jpg)"
   ]
  },
  {
   "cell_type": "code",
   "execution_count": null,
   "metadata": {
    "scrolled": true
   },
   "outputs": [],
   "source": [
    "from sklearn.cluster import DBSCAN\n",
    "#from sklearn.datasets import make_blobs\n",
    "from sklearn.preprocessing import StandardScaler\n",
    "cpalette = [\"blue\",\"red\",\"gold\",\"black\",\"magenta\",\"green\",\"cyan\",\"#1CE6FF\", \"#FF34FF\", \"#FF4A46\",\"#008941\", \"#006FA6\", \"#A30059\", \"#0000A6\", \"#63FFAC\",\"#B79762\", \"#004D43\", \"#8FB0FF\", \"#997D87\",\"#5A0007\", \"#809693\",\"#1B4400\", \"#4FC601\", \"#3B5DFF\", \"#4A3B53\",\"#886F4C\",\"#34362D\", \"#B4A8BD\", \"#00A6AA\", \"#452C2C\",\"#636375\", \"#A3C8C9\", \"#FF913F\", \"#938A81\",\"#575329\", \"#00FECF\", \"#B05B6F\"]\n",
    "from collections import OrderedDict\n",
    "ms = 6\n",
    "\n",
    "def clustering(y):\n",
    "    # Finds position of labels and returns a dictionary of cluster labels to data indices.\n",
    "    yu = np.sort(np.unique(y))\n",
    "    clustering = OrderedDict()\n",
    "    for ye in yu:\n",
    "        clustering[ye] = np.where(y == ye)[0]\n",
    "    return clustering\n",
    "\n",
    "def entropy(c, n_sample):\n",
    "    # Measures the entropy of a cluster\n",
    "    h = 0.\n",
    "    for kc in c.keys():\n",
    "        p=len(c[kc])/n_sample\n",
    "        h+=p*np.log(p)\n",
    "    h*=-1.\n",
    "    return h\n",
    "\n",
    "# Normalized mutual information function\n",
    "# Note that this deals with the label permutation problem\n",
    "def NMI(y_true, y_pred):\n",
    "    \"\"\" Computes normalized mutual information: where y_true and y_pred are both clustering assignments\n",
    "    \"\"\"\n",
    "    w = clustering(y_true)\n",
    "    c = clustering(y_pred)\n",
    "    n_sample = len(y_true)\n",
    "\n",
    "    Iwc = 0.\n",
    "    for kw in w.keys():\n",
    "        for kc in c.keys():\n",
    "            w_intersect_c=len(set(w[kw]).intersection(set(c[kc])))\n",
    "            if w_intersect_c > 0:\n",
    "                Iwc += w_intersect_c*np.log(n_sample*w_intersect_c/(len(w[kw])*len(c[kc])))\n",
    "    Iwc/=n_sample\n",
    "    Hc = entropy(c,n_sample)\n",
    "    Hw = entropy(w,n_sample)\n",
    "\n",
    "    return 2*Iwc/(Hc+Hw)\n",
    "\n",
    "def plotting_ax(X, y, ax):\n",
    "    # plotting function\n",
    "    for i, yu in enumerate(np.unique(y)):\n",
    "        pos = (y == yu)\n",
    "        ax.scatter(X[pos,0], X[pos,1],c=cpalette[i%len(cpalette)],s=ms)\n",
    "\n",
    "# DBSCAN has a few parameters, let's sweep over a few parameters and see what happens\n",
    "np.random.seed(12345)\n",
    "n_true_center=3\n",
    "#X, ytrue = make_blobs(10000, 2, n_true_center) # Generating random gaussian mixture\n",
    "X2D = X_all[3] # best visualization above\n",
    "X = data\n",
    "y_true = y\n",
    "\n",
    "nmi_array=np.zeros((25,30))\n",
    "#eps_range = [0.01,0.1,0.5,1.0,10.]\n",
    "if mean_min_dist<10:\n",
    "    r=mean_min_dist\n",
    "else:\n",
    "    r = int(mean_min_dist)\n",
    "eps_range = np.linspace(r,12*r,25)\n",
    "min_sample_range = np.linspace(1,30,30)\n",
    "fig, ax = plt.subplots(len(eps_range),len(min_sample_range),figsize=(15,18))\n",
    "for i, eps in enumerate(eps_range):\n",
    "    for j, min_samples in enumerate(min_sample_range):\n",
    "        model = DBSCAN(eps=eps, min_samples=min_samples)\n",
    "        model.fit(X)\n",
    "        y_hat = model.labels_\n",
    "        plotting_ax(X2D,y_hat,ax[i,j])\n",
    "        nmi=NMI(y_hat, y_true)\n",
    "        ax[i,j].set_title('eps=%.2f, minPts=%i\\nnmi=%.2f'%(eps,min_samples,nmi))\n",
    "        nmi_array.append(nmi[:,j])\n",
    "#plt.tight_layout(h_pad=0.5)\n",
    "#plt.show()\n"
   ]
  },
  {
   "cell_type": "markdown",
   "metadata": {},
   "source": [
    "## Task 2) DBSCAN: find labels by applying clustering"
   ]
  },
  {
   "cell_type": "markdown",
   "metadata": {},
   "source": [
    "DBSCAN (Density-Based Spatial Clustering of Applications with Noise) is a clustering algorithm that groups together points that are closely packed together and separated from other dense regions of points. The algorithm takes two input parameters: \"eps\" and \"minPts\".\n",
    "\n",
    "eps (epsilon) is the radius of the neighborhood around a point. It defines the maximum distance between two points for them to be considered as part of the same cluster. Points within this radius are considered \"neighbors\" of each other.\n",
    "\n",
    "minPts (minimum number of points) is the minimum number of points needed to form a dense region (i.e., a cluster). If there are fewer than minPts points within the eps radius of a point, that point is labeled as noise and not considered part of any cluster.\n",
    "\n",
    "To refine the grid with more values of \"eps\" and \"minPts\", we can increase the number of values in the range of values used for each parameter. This will result in a larger heat-map showing more combinations of \"eps\" and \"minPts\" values and their corresponding NMI values.\n",
    "\n",
    "There may be a correlation between \"eps\" and \"minPts\" in providing a high NMI, as both parameters influence the clustering results. In general, increasing \"eps\" allows for more points to be considered part of the same cluster, while increasing \"minPts\" requires a higher density of points for a cluster to form. The optimal combination of \"eps\" and \"minPts\" values will depend on the specific dataset and the desired clustering result.\n",
    "\n",
    "To further tune \"eps\" and \"minPts\", we can plot ranked distances and visually inspect the plot to identify a suitable value for \"eps\""
   ]
  },
  {
   "cell_type": "code",
   "execution_count": null,
   "metadata": {
    "scrolled": false
   },
   "outputs": [],
   "source": [
    "import numpy as np\n",
    "from sklearn.cluster import DBSCAN\n",
    "from sklearn.preprocessing import StandardScaler\n",
    "import matplotlib.pyplot as plt\n",
    "from collections import OrderedDict\n",
    "\n",
    "# Load data\n",
    "data = np.loadtxt(\"DATA/x_3d.dat\", delimiter='\\t')\n",
    "y_true = np.loadtxt(\"DATA/y_3d.dat\", dtype=int)\n",
    "\n",
    "# Standardize data\n",
    "scaler = StandardScaler()\n",
    "X = scaler.fit_transform(data)\n",
    "\n",
    "# Define range of values for eps and minPts\n",
    "eps_range = np.linspace(0.1, 2.0, 20)\n",
    "minPts_range = np.arange(1, 21)\n",
    "\n",
    "# Create an empty array to store the NMI values\n",
    "NMI_array = np.zeros((len(eps_range), len(minPts_range)))\n",
    "\n",
    "# Loop over the range of values for eps and minPts\n",
    "for i, eps in enumerate(eps_range):\n",
    "    for j, minPts in enumerate(minPts_range):\n",
    "        # Fit DBSCAN model\n",
    "        dbscan = DBSCAN(eps=eps, min_samples=minPts)\n",
    "        y_pred = dbscan.fit_predict(X)\n",
    "        \n",
    "        # Compute NMI and store in array\n",
    "        NMI_array[i, j] = NMI(y_true, y_pred)\n"
   ]
  },
  {
   "cell_type": "code",
   "execution_count": null,
   "metadata": {},
   "outputs": [],
   "source": [
    "# Plot heat-map of NMI values\n",
    "fig, ax = plt.subplots(figsize=(6, 6))\n",
    "im = ax.imshow(NMI_array, cmap='viridis', vmin=0.0, vmax=1.0)\n",
    "\n",
    "# Add color-bar\n",
    "cbar = ax.figure.colorbar(im, ax=ax, fraction=0.045)\n",
    "cbar.ax.set_ylabel('Normalized Mutual Information', rotation=-90, va=\"bottom\")\n",
    "\n",
    "# Add ticks and labels\n",
    "ax.set_xticks(np.arange(len(minPts_range),step=2))\n",
    "ax.set_yticks(np.arange(len(eps_range)))\n",
    "ax.set_xticklabels(['{}'.format(x) for x in np.arange(len(minPts_range),step=2)])\n",
    "ax.set_yticklabels\n",
    "ax.set_xlabel('minPts')\n",
    "ax.set_ylabel('eps')"
   ]
  },
  {
   "cell_type": "code",
   "execution_count": null,
   "metadata": {},
   "outputs": [],
   "source": []
  }
 ],
 "metadata": {
  "kernelspec": {
   "display_name": "Python 3",
   "language": "python",
   "name": "python3"
  },
  "language_info": {
   "codemirror_mode": {
    "name": "ipython",
    "version": 3
   },
   "file_extension": ".py",
   "mimetype": "text/x-python",
   "name": "python",
   "nbconvert_exporter": "python",
   "pygments_lexer": "ipython3",
   "version": "3.6.13"
  }
 },
 "nbformat": 4,
 "nbformat_minor": 4
}
